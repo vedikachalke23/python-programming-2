{
  "nbformat": 4,
  "nbformat_minor": 0,
  "metadata": {
    "colab": {
      "provenance": [],
      "collapsed_sections": [],
      "authorship_tag": "ABX9TyOa6C40f2qIbz9FaAUVUpQJ",
      "include_colab_link": true
    },
    "kernelspec": {
      "name": "python3",
      "display_name": "Python 3"
    },
    "language_info": {
      "name": "python"
    }
  },
  "cells": [
    {
      "cell_type": "markdown",
      "metadata": {
        "id": "view-in-github",
        "colab_type": "text"
      },
      "source": [
        "<a href=\"https://colab.research.google.com/github/vedikachalke23/python-programming-2/blob/main/week_3_assignment.ipynb\" target=\"_parent\"><img src=\"https://colab.research.google.com/assets/colab-badge.svg\" alt=\"Open In Colab\"/></a>"
      ]
    },
    {
      "cell_type": "markdown",
      "source": [
        "SECTION A"
      ],
      "metadata": {
        "id": "42CtSWGvjIU1"
      }
    },
    {
      "cell_type": "code",
      "source": [
        "def evenly_sum(a,b,c):\n",
        "  sum1 = []\n",
        "  add1 =0\n",
        "  for i in range(a,b+1):\n",
        "    if i%c==0:\n",
        "      sum1.append(i)\n",
        "    else:\n",
        "      pass\n",
        "  if sum(sum1)==0:\n",
        "    print(\"No number between\",a,\"and\",b,\"can be evenly divided by\",c,\".\")\n",
        "  else:\n",
        "    total=sum(sum1)\n",
        "    print(\"thse sum of the number that are evenly divided by\",c,\"from the range\",a,\"to\",b,\"is\",total)       \n",
        "evenly_sum(1,10,20)\n",
        "evenly_sum(1,10,2)\n",
        "evenly_sum(1,10,3)     \n"
      ],
      "metadata": {
        "colab": {
          "base_uri": "https://localhost:8080/"
        },
        "id": "VtBADAQfcBmb",
        "outputId": "c23d05cb-dcb1-4593-fe41-ec1b81bcef2b"
      },
      "execution_count": null,
      "outputs": [
        {
          "output_type": "stream",
          "name": "stdout",
          "text": [
            "No number between 1 and 10 can be evenly divided by 20 .\n",
            "thse sum of the number that are evenly divided by 2 from the range 1 to 10 is 30\n",
            "thse sum of the number that are evenly divided by 3 from the range 1 to 10 is 18\n"
          ]
        }
      ]
    },
    {
      "cell_type": "code",
      "execution_count": null,
      "metadata": {
        "colab": {
          "base_uri": "https://localhost:8080/"
        },
        "id": "-7_0FhvtYWOW",
        "outputId": "2cd29dc6-6535-4450-89ff-f40e2f251879"
      },
      "outputs": [
        {
          "output_type": "stream",
          "name": "stdout",
          "text": [
            "the expression True is true\n",
            "the expression False is false\n",
            "the expression False is false\n"
          ]
        }
      ],
      "source": [
        "def equality(a):\n",
        "  exp =eval(a)\n",
        "  if exp==True:\n",
        "    print(\"the expression\",exp,\"is true\")\n",
        "  else:\n",
        "    print(\"the expression\",exp,\"is false\")  \n",
        "equality(\"3<7<11\")\n",
        "equality(\"13>44>33>1\")\n",
        "equality(\"1<2<6<9<3\")    \n"
      ]
    },
    {
      "cell_type": "code",
      "source": [
        "def ReplaceVowels(st1,v):\n",
        "  vowels ='aeiou'\n",
        "  stri =st1\n",
        "  for i in vowels:\n",
        "    st1 = st1.replace(i,v)\n",
        "  print(\"after replacing vowels from(\",stri,\")with the specified character (\",v,\")the new variable is:\",st1)\n",
        "ReplaceVowels(\"the aardvark\",\"#\")\n",
        "ReplaceVowels(\"minnie mouse\",\"?\")\n",
        "ReplaceVowels(\"shakespeare\",\"*\") "
      ],
      "metadata": {
        "colab": {
          "base_uri": "https://localhost:8080/"
        },
        "id": "VJYGtv4eeUK4",
        "outputId": "ead26f98-66d1-4798-a38b-511b7bef4734"
      },
      "execution_count": null,
      "outputs": [
        {
          "output_type": "stream",
          "name": "stdout",
          "text": [
            "after replacing vowels from( the aardvark )with the specified character ( # )the new variable is: th# ##rdv#rk\n",
            "after replacing vowels from( minnie mouse )with the specified character ( ? )the new variable is: m?nn?? m??s?\n",
            "after replacing vowels from( shakespeare )with the specified character ( * )the new variable is: sh*k*sp**r*\n"
          ]
        }
      ]
    },
    {
      "cell_type": "code",
      "source": [
        "def factorial(num):\n",
        "  factorial =1\n",
        "  if num < 0:\n",
        "    print(\"there is no factorial of negative number\")\n",
        "  elif num== 0:\n",
        "    print(\"the factorial of 0 is 1\")\n",
        "  else:\n",
        "    for i in range (1,num+1):\n",
        "      factorial = factorial*i\n",
        "    print(\"the factorial of\",num,\"is\",factorial)\n",
        "factorial(5)\n",
        "factorial(3)\n",
        "factorial(1)\n",
        "factorial(0)      \n"
      ],
      "metadata": {
        "colab": {
          "base_uri": "https://localhost:8080/"
        },
        "id": "bEa6JUlCiXcH",
        "outputId": "722853ea-c02a-4c50-e1a0-7acb72a4d6ca"
      },
      "execution_count": null,
      "outputs": [
        {
          "output_type": "stream",
          "name": "stdout",
          "text": [
            "the factorial of 5 is 120\n",
            "the factorial of 3 is 6\n",
            "the factorial of 1 is 1\n",
            "the factorial of 0 is 1\n"
          ]
        }
      ]
    },
    {
      "cell_type": "code",
      "source": [
        "def hamdist(str1,str2):\n",
        "  i=0\n",
        "  count=0\n",
        "  while(i<len(str1)):\n",
        "    if(str1[i] !=str2[i]):\n",
        "      count +=1\n",
        "    i +=1\n",
        "  print(\"hamming distance between\",str1,\"&\",str2,\"is:\",count)\n",
        "hamdist(\"abcde\",\"bcdef\")      \n",
        "hamdist(\"abcde\",\"abcde\")      \n",
        "hamdist(\"strong\",\"strung\")      "
      ],
      "metadata": {
        "colab": {
          "base_uri": "https://localhost:8080/"
        },
        "id": "XTmfQJPPlAy9",
        "outputId": "0b8ef9be-5c1d-49b0-9bcc-a0bf1c605e9e"
      },
      "execution_count": null,
      "outputs": [
        {
          "output_type": "stream",
          "name": "stdout",
          "text": [
            "hamming distance between abcde & bcdef is: 5\n",
            "hamming distance between abcde & abcde is: 0\n",
            "hamming distance between strong & strung is: 1\n"
          ]
        }
      ]
    },
    {
      "cell_type": "code",
      "source": [
        "SECTION B"
      ],
      "metadata": {
        "id": "a29Nu-bRgiix"
      },
      "execution_count": null,
      "outputs": []
    },
    {
      "cell_type": "code",
      "source": [
        "l = [1,2,'a','b']\n",
        "\n",
        "def filter_list(l):\n",
        "    new_list = []\n",
        "    for x in l:\n",
        "        if type(x) == int:\n",
        "            new_list.append(x)\n",
        "    return new_list\n",
        "\n",
        "print(filter_list(l))"
      ],
      "metadata": {
        "colab": {
          "base_uri": "https://localhost:8080/"
        },
        "id": "K5QiXis7gnrP",
        "outputId": "d983cc58-6a9c-46cb-90c8-1b347ecb27e3"
      },
      "execution_count": null,
      "outputs": [
        {
          "output_type": "stream",
          "name": "stdout",
          "text": [
            "[1, 2]\n"
          ]
        }
      ]
    },
    {
      "cell_type": "code",
      "source": [
        "def string(str1):\n",
        "\n",
        "    rstr1 = ''\n",
        "    index = len(str1)\n",
        "    while index > 0:\n",
        "        rstr1 += str1[ index - 1 ]\n",
        "        index = index - 1\n",
        "    return rstr1\n",
        "print(string('Vedant').swapcase())"
      ],
      "metadata": {
        "colab": {
          "base_uri": "https://localhost:8080/"
        },
        "id": "9k2QS9xNgqIp",
        "outputId": "ebe8f01d-97e9-420d-9e61-b095c1bb7627"
      },
      "execution_count": null,
      "outputs": [
        {
          "output_type": "stream",
          "name": "stdout",
          "text": [
            "TNADEv\n"
          ]
        }
      ]
    },
    {
      "cell_type": "code",
      "source": [
        "list=[1,6,8,9,5,4,\"Ved\",\"car\",\"class\",69]\n",
        "first=list[0]\n",
        "middle=list[1:-1]\n",
        "last=list[-1]\n",
        "print(\"first =\",first ,\"middle =\",middle,\"last = \",last)"
      ],
      "metadata": {
        "colab": {
          "base_uri": "https://localhost:8080/"
        },
        "id": "T5wGRWxjgswG",
        "outputId": "10fa0793-82c0-468c-cb9e-50b356e78f3d"
      },
      "execution_count": null,
      "outputs": [
        {
          "output_type": "stream",
          "name": "stdout",
          "text": [
            "first = 1 middle = [6, 8, 9, 5, 4, 'Ved', 'car', 'class'] last =  69\n"
          ]
        }
      ]
    },
    {
      "cell_type": "code",
      "source": [
        "def recur_factorial(n):\n",
        "   if n == 1:\n",
        "       return n\n",
        "   else:\n",
        "       return n*recur_factorial(n-1)\n",
        "\n",
        "num = int(input(\"Enter the number : \"))\n",
        "\n",
        "\n",
        "if num < 0:\n",
        "   print(\"Sorry, factorial does not exist for negative numbers\")\n",
        "elif num == 0:\n",
        "   print(\"The factorial of 0 is 1\")\n",
        "else:\n",
        "   print(\"The factorial of\", num, \"is\", recur_factorial(num))"
      ],
      "metadata": {
        "colab": {
          "base_uri": "https://localhost:8080/"
        },
        "id": "vPBdaJNOgvqk",
        "outputId": "bac07a21-d517-404f-ce30-00f06954681d"
      },
      "execution_count": null,
      "outputs": [
        {
          "output_type": "stream",
          "name": "stdout",
          "text": [
            "Enter the number : 11\n",
            "The factorial of 11 is 39916800\n"
          ]
        }
      ]
    },
    {
      "cell_type": "code",
      "source": [
        "def move_to_end(lst,el):\n",
        "    lst.append(lst.pop(lst.index(el)))\n",
        "    return lst\n",
        "\n",
        "print(move_to_end([1, 3, 2, 4, 4, 1], 1))\n",
        "print(move_to_end([7, 8, 9, 1, 2, 3, 4], 9))\n",
        "print(move_to_end([\"a\",\"a\",\"a\",\"b\"], \"a\"))"
      ],
      "metadata": {
        "colab": {
          "base_uri": "https://localhost:8080/"
        },
        "id": "6SXG9yRegx5O",
        "outputId": "8c5232d7-836d-4c0e-d3ea-15dd073070dc"
      },
      "execution_count": null,
      "outputs": [
        {
          "output_type": "stream",
          "name": "stdout",
          "text": [
            "[3, 2, 4, 4, 1, 1]\n",
            "[7, 8, 1, 2, 3, 4, 9]\n",
            "['a', 'a', 'b', 'a']\n"
          ]
        }
      ]
    },
    {
      "cell_type": "markdown",
      "source": [
        "SECTION C"
      ],
      "metadata": {
        "id": "QVMjklsTg0Ow"
      }
    },
    {
      "cell_type": "code",
      "source": [
        "def multichar(text, n):\n",
        "    return ''.join([x * n for x in text])\n",
        "multichar(\"VedIKA\",2)"
      ],
      "metadata": {
        "colab": {
          "base_uri": "https://localhost:8080/",
          "height": 36
        },
        "id": "sfAwW4tfg2ZZ",
        "outputId": "28a56091-f11f-4262-ca51-9b7855e181d5"
      },
      "execution_count": null,
      "outputs": [
        {
          "output_type": "execute_result",
          "data": {
            "text/plain": [
              "'VVeeddIIKKAA'"
            ],
            "application/vnd.google.colaboratory.intrinsic+json": {
              "type": "string"
            }
          },
          "metadata": {},
          "execution_count": 9
        }
      ]
    },
    {
      "cell_type": "code",
      "source": [
        "def reverse(arg):\n",
        "\tif isinstance(arg, bool):\n",
        "\t\treturn not arg\n",
        "\telse:\n",
        "\t\treturn('boolean expected')\n",
        "\n",
        "def reverse(arg=None):\n",
        "\treturn not arg if type(arg) == bool else \"boolean expected\"\n",
        "\n",
        "print(reverse(True)) \n",
        "print(reverse(False)) \n",
        "print(reverse(0)) \n",
        "print(reverse(None))"
      ],
      "metadata": {
        "colab": {
          "base_uri": "https://localhost:8080/"
        },
        "id": "U_mizKd1g624",
        "outputId": "1ffad0cb-2a3d-4131-ef14-5eed11d24f96"
      },
      "execution_count": null,
      "outputs": [
        {
          "output_type": "stream",
          "name": "stdout",
          "text": [
            "False\n",
            "True\n",
            "boolean expected\n",
            "boolean expected\n"
          ]
        }
      ]
    },
    {
      "cell_type": "code",
      "source": [
        "def fn(a):\n",
        "    res = 0.5\n",
        "    for i in range(a):\n",
        "        res *= 2\n",
        "    \n",
        "    return res / 1000 \n",
        "fn(1)"
      ],
      "metadata": {
        "colab": {
          "base_uri": "https://localhost:8080/"
        },
        "id": "XX_25AzSg-F5",
        "outputId": "a3378291-fb85-4da5-d677-e6b874cd5539"
      },
      "execution_count": null,
      "outputs": [
        {
          "output_type": "execute_result",
          "data": {
            "text/plain": [
              "0.001"
            ]
          },
          "metadata": {},
          "execution_count": 7
        }
      ]
    },
    {
      "cell_type": "code",
      "source": [
        "test_str = 'Vedikachalke'\n",
        " \n",
        "\n",
        "print(\"The original string is : \" + str(test_str))\n",
        " \n",
        "\n",
        "res = [idx for idx in range(len(test_str)) if test_str[idx].isupper()]\n",
        " \n",
        "\n",
        "print(\"Uppercase elements indices : \" + str(res))"
      ],
      "metadata": {
        "colab": {
          "base_uri": "https://localhost:8080/"
        },
        "id": "B2TPwD4VhDci",
        "outputId": "80d27c15-bfbe-444e-b8d0-a727311e2d18"
      },
      "execution_count": null,
      "outputs": [
        {
          "output_type": "stream",
          "name": "stdout",
          "text": [
            "The original string is : Vedikachalke\n",
            "Uppercase elements indices : [0]\n"
          ]
        }
      ]
    },
    {
      "cell_type": "code",
      "source": [
        "listl=[i for i in range (4) if(i%2==0)]\n",
        "\n",
        "print(listl)"
      ],
      "metadata": {
        "colab": {
          "base_uri": "https://localhost:8080/"
        },
        "id": "McXTcokihGJ5",
        "outputId": "f471f679-3899-40cd-bcaa-ff8109f91e82"
      },
      "execution_count": null,
      "outputs": [
        {
          "output_type": "stream",
          "name": "stdout",
          "text": [
            "[0, 2]\n"
          ]
        }
      ]
    },
    {
      "cell_type": "markdown",
      "source": [
        "SECTION D"
      ],
      "metadata": {
        "id": "3LydB19-h61H"
      }
    },
    {
      "cell_type": "code",
      "source": [
        "l = [6,9,4,'vedika','chalke']\n",
        "output = [x for x in l if type(x) != str]\n",
        "print(output)"
      ],
      "metadata": {
        "colab": {
          "base_uri": "https://localhost:8080/"
        },
        "id": "DSIVEAKfh9BT",
        "outputId": "8b8fc7fe-9288-4e75-a40a-b672b22bcc30"
      },
      "execution_count": null,
      "outputs": [
        {
          "output_type": "stream",
          "name": "stdout",
          "text": [
            "[6, 9, 4]\n"
          ]
        }
      ]
    },
    {
      "cell_type": "code",
      "source": [
        "import math\n",
        "pi = math.pi\n",
        "def volume(r, h):\n",
        "    return (1 / 3) * pi * r * r * h\n",
        "def surfacearea(r, s):\n",
        "    return pi * r * s + pi * r * r\n",
        "radius = float(2)\n",
        "height = float(3)\n",
        "slat_height = float(5)\n",
        "print( \"Volume Of Cone : \", volume(radius, height) )\n",
        "print( \"Surface Area Of Cone : \", surfacearea(radius, slat_height) )"
      ],
      "metadata": {
        "colab": {
          "base_uri": "https://localhost:8080/"
        },
        "id": "QsUG09L8iIkY",
        "outputId": "aeb60e57-6fe2-47b6-c2c7-574c0f3d1c3c"
      },
      "execution_count": null,
      "outputs": [
        {
          "output_type": "stream",
          "name": "stdout",
          "text": [
            "Volume Of Cone :  12.566370614359172\n",
            "Surface Area Of Cone :  43.982297150257104\n"
          ]
        }
      ]
    },
    {
      "cell_type": "code",
      "source": [
        "def missing_num(lst):\n",
        "\n",
        "   for n in range(1,11):\n",
        "\n",
        "       if n not in lst:\n",
        "\n",
        "           print(n)\n",
        "\n",
        "lst = (1,3,4,5,6,7,8,9,10)\n",
        "\n",
        "missing_num(lst)"
      ],
      "metadata": {
        "colab": {
          "base_uri": "https://localhost:8080/"
        },
        "id": "f0VneFnciRUu",
        "outputId": "7c057a87-03be-4767-d5de-77504060bd05"
      },
      "execution_count": null,
      "outputs": [
        {
          "output_type": "stream",
          "name": "stdout",
          "text": [
            "2\n"
          ]
        }
      ]
    }
  ]
}