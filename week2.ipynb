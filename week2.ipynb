{
  "nbformat": 4,
  "nbformat_minor": 0,
  "metadata": {
    "colab": {
      "provenance": [],
      "collapsed_sections": [],
      "authorship_tag": "ABX9TyOLPFqC0FrrhhdmDX0E/6qc",
      "include_colab_link": true
    },
    "kernelspec": {
      "name": "python3",
      "display_name": "Python 3"
    },
    "language_info": {
      "name": "python"
    }
  },
  "cells": [
    {
      "cell_type": "markdown",
      "metadata": {
        "id": "view-in-github",
        "colab_type": "text"
      },
      "source": [
        "<a href=\"https://colab.research.google.com/github/vedikachalke23/python-programming-2/blob/main/week2.ipynb\" target=\"_parent\"><img src=\"https://colab.research.google.com/assets/colab-badge.svg\" alt=\"Open In Colab\"/></a>"
      ]
    },
    {
      "cell_type": "markdown",
      "source": [
        "SECTION A"
      ],
      "metadata": {
        "id": "kyagW3xieMau"
      }
    },
    {
      "cell_type": "code",
      "source": [
        "def num(x,y,z,) :\n",
        "  if x == y and x == z:\n",
        "    return 3\n",
        "  elif x==y or x==z:\n",
        "    return 2\n",
        "  else:\n",
        "    return 0\n",
        "print(num(2,1,3))"
      ],
      "metadata": {
        "colab": {
          "base_uri": "https://localhost:8080/"
        },
        "id": "1zPCu67FeK9X",
        "outputId": "92c87322-6c17-4783-cf11-6e6c4fe2fc67"
      },
      "execution_count": null,
      "outputs": [
        {
          "output_type": "stream",
          "name": "stdout",
          "text": [
            "0\n"
          ]
        }
      ]
    },
    {
      "cell_type": "code",
      "source": [
        "dict = { 'Vedika': 13, 'neha': 19, 'mehmood': 44 }\n",
        "list = [(a, b) for a, b in dict.items()]\n",
        "print(sorted(list))"
      ],
      "metadata": {
        "colab": {
          "base_uri": "https://localhost:8080/"
        },
        "id": "tY_EgHH6eaPs",
        "outputId": "a420815a-abaf-41f1-f3b6-6557e74012d6"
      },
      "execution_count": null,
      "outputs": [
        {
          "output_type": "stream",
          "name": "stdout",
          "text": [
            "[('Vedika', 13), ('mehmood', 44), ('neha', 19)]\n"
          ]
        }
      ]
    },
    {
      "cell_type": "code",
      "source": [
        "list = ['v','e','d','i','k','a']\n",
        "a = {}\n",
        "\n",
        "for letters in list:\n",
        "  b = letters.upper()\n",
        "  a.update({letters:b})\n",
        "print(a)"
      ],
      "metadata": {
        "colab": {
          "base_uri": "https://localhost:8080/"
        },
        "id": "LxfJOo1nerGL",
        "outputId": "80b61239-fff6-4a18-dcf7-06a4db0563df"
      },
      "execution_count": null,
      "outputs": [
        {
          "output_type": "stream",
          "name": "stdout",
          "text": [
            "{'v': 'V', 'e': 'E', 'd': 'D', 'i': 'I', 'k': 'K', 'a': 'A'}\n"
          ]
        }
      ]
    },
    {
      "cell_type": "code",
      "source": [
        "print(\"Enter the String: \")\n",
        "str = input()\n",
        "\n",
        "print(\"Enter a character: \")\n",
        "char = input()\n",
        "\n",
        "newstr = \"\"\n",
        "for i in range(len(str)):\n",
        "    if str[i]=='a' or str[i]=='e' or str[i]=='i' or str[i]=='o' or str[i]=='u':\n",
        "        newstr = newstr + char\n",
        "    else:\n",
        "        newstr = newstr + str[i]\n",
        "\n",
        "print(\"\\nOriginal String:\", str)\n",
        "print(\"New String:\", newstr)"
      ],
      "metadata": {
        "colab": {
          "base_uri": "https://localhost:8080/"
        },
        "id": "zS9e8COBey-B",
        "outputId": "000f41ac-4672-48c8-f6da-ce0848b4f365"
      },
      "execution_count": null,
      "outputs": [
        {
          "output_type": "stream",
          "name": "stdout",
          "text": [
            "Enter the String: \n",
            "vedika\n",
            "Enter a character: \n",
            "*\n",
            "\n",
            "Original String: vedika\n",
            "New String: v*d*k*\n"
          ]
        }
      ]
    },
    {
      "cell_type": "code",
      "source": [
        "def ascii(st):\n",
        "  res=[]\n",
        "  for index, c in enumerate(st):\n",
        "    if index%2==0:\n",
        "      res.append(c.upper())\n",
        "    else:\n",
        "      res.append(c.lower())\n",
        "  return''.join(res)\n",
        "print(ascii(\"Vedika\"))"
      ],
      "metadata": {
        "colab": {
          "base_uri": "https://localhost:8080/"
        },
        "id": "m0DkQhLMfMVl",
        "outputId": "21402c4d-a903-41d0-e90a-f8f3004fa960"
      },
      "execution_count": null,
      "outputs": [
        {
          "output_type": "stream",
          "name": "stdout",
          "text": [
            "VeDiKa\n"
          ]
        }
      ]
    },
    {
      "cell_type": "markdown",
      "source": [
        "SECTION B"
      ],
      "metadata": {
        "id": "yI5sztGlfXPN"
      }
    },
    {
      "cell_type": "code",
      "source": [
        "def my_function():\n",
        "  print(\"Hello from a function\")\n",
        "\n",
        "my_function()"
      ],
      "metadata": {
        "colab": {
          "base_uri": "https://localhost:8080/"
        },
        "id": "SnyVsIB0fWTK",
        "outputId": "cbf037f5-3201-458b-a778-2dedc61ca2fd"
      },
      "execution_count": null,
      "outputs": [
        {
          "output_type": "stream",
          "name": "stdout",
          "text": [
            "Hello from a function\n"
          ]
        }
      ]
    },
    {
      "cell_type": "code",
      "source": [
        "def my_function(country = \"Norway\"):\n",
        "  print(\"I am from \" + country)\n",
        "\n",
        "my_function(\"Sweden\")\n",
        "my_function(\"India\")\n",
        "my_function()\n",
        "my_function(\"Brazil\")"
      ],
      "metadata": {
        "colab": {
          "base_uri": "https://localhost:8080/"
        },
        "id": "3DTgcZ1-fdDN",
        "outputId": "5d379a03-75cb-48dc-fb48-46575f7cd99c"
      },
      "execution_count": null,
      "outputs": [
        {
          "output_type": "stream",
          "name": "stdout",
          "text": [
            "I am from Sweden\n",
            "I am from India\n",
            "I am from Norway\n",
            "I am from Brazil\n"
          ]
        }
      ]
    },
    {
      "cell_type": "code",
      "source": [
        "def my_function(food):\n",
        "  for x in food:\n",
        "    print(x)\n",
        "\n",
        "fruits = [\"apple\", \"banana\", \"cherry\"]\n",
        "\n",
        "my_function(fruits)"
      ],
      "metadata": {
        "colab": {
          "base_uri": "https://localhost:8080/"
        },
        "id": "zzTVjpDefhMw",
        "outputId": "21a35448-b1b0-4905-e542-3cc33a144ff9"
      },
      "execution_count": null,
      "outputs": [
        {
          "output_type": "stream",
          "name": "stdout",
          "text": [
            "apple\n",
            "banana\n",
            "cherry\n"
          ]
        }
      ]
    },
    {
      "cell_type": "code",
      "source": [
        "def convertTemp(c):\n",
        "   f = (c * 1.8) + 32\n",
        "   return f\n",
        "    \n",
        "\n",
        "cel = float(input('Enter temperature in Celsius: '))\n",
        "\n",
        "\n",
        "fahr = convertTemp(cel)\n",
        "print('%0.1f degrees Celsius is equivalent to %0.1f degrees Fahrenheit' %(cel, fahr))"
      ],
      "metadata": {
        "colab": {
          "base_uri": "https://localhost:8080/"
        },
        "id": "D74katgkflK4",
        "outputId": "7ab02563-927e-4daf-aee9-27fbf3a10297"
      },
      "execution_count": null,
      "outputs": [
        {
          "output_type": "stream",
          "name": "stdout",
          "text": [
            "Enter temperature in Celsius: 23\n",
            "23.0 degrees Celsius is equivalent to 73.4 degrees Fahrenheit\n"
          ]
        }
      ]
    },
    {
      "cell_type": "code",
      "source": [
        "def kilometre_1(km):  \n",
        "    conversion_ratio_1= 0.621371  \n",
        "    miles_1 = km * conversion_ratio_1  \n",
        "    print (\"The speed value of car in Miles: \", miles_1)  \n",
        "km = float (input (\"Please enter the speed of car in Kilometre as a unit: \"))  \n",
        "kilometre_1(km)"
      ],
      "metadata": {
        "colab": {
          "base_uri": "https://localhost:8080/"
        },
        "id": "5JUUPRW9frQI",
        "outputId": "d8b50c62-cb21-4203-c05e-d414cd35c854"
      },
      "execution_count": null,
      "outputs": [
        {
          "output_type": "stream",
          "name": "stdout",
          "text": [
            "Please enter the speed of car in Kilometre as a unit: 100\n",
            "The speed value of car in Miles:  62.137100000000004\n"
          ]
        }
      ]
    }
  ]
}